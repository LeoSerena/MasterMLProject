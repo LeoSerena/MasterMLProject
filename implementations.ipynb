{
 "cells": [
  {
   "cell_type": "code",
   "execution_count": 1,
   "metadata": {},
   "outputs": [],
   "source": [
    "import numpy as np"
   ]
  },
  {
   "cell_type": "markdown",
   "metadata": {},
   "source": [
    "*compute_loss* computes the error of the parameters w regarding the data x and the labels y. mse = True computes the MSE error and mse = False computes the MAE error."
   ]
  },
  {
   "cell_type": "code",
   "execution_count": 2,
   "metadata": {},
   "outputs": [],
   "source": [
    "def compute_loss(y, tx, w, mse = True):\n",
    "    N = y.shape[0]\n",
    "    if mse:\n",
    "        e = y - tx @ w\n",
    "        loss = 1/(2 * N) * e.T @ e\n",
    "    else:\n",
    "        loss = np.mean(np.abs(y - tx @ w))\n",
    "    return loss"
   ]
  },
  {
   "cell_type": "markdown",
   "metadata": {},
   "source": [
    "*mse_gradient* computes the gradient of the MSE loss function regarding the labels y, the data tx and the parameters w"
   ]
  },
  {
   "cell_type": "code",
   "execution_count": 2,
   "metadata": {},
   "outputs": [],
   "source": [
    "def mse_gradient(y, tx, w):\n",
    "    e = y - tx @ w\n",
    "    grad = -(1/y.shape[0]) * tx.T @ e\n",
    "    return grad"
   ]
  },
  {
   "cell_type": "markdown",
   "metadata": {},
   "source": [
    "*mae_gradient* computes the gradient of the MAE loss function regarding the labels y, the data tx and the parameters w"
   ]
  },
  {
   "cell_type": "code",
   "execution_count": null,
   "metadata": {},
   "outputs": [],
   "source": [
    "def mae_gradient(y, tx, w):\n",
    "    e = y - tx @ w\n",
    "    e = np.where(e < 0, 1, -1)\n",
    "    e = np.vstack((e,e)).T * tx\n",
    "    return np.mean(e, axis = 0)"
   ]
  },
  {
   "cell_type": "markdown",
   "metadata": {},
   "source": [
    "### least_squares_GD\n",
    "*least_squares_GD* applies the full gradient descent with respect to the MSE loss function. y are the labels, tx the data, initial_w the initial vector, max_iters are the number of steps of the algorithm and gamma the step size.\n",
    "at each step, this performs $\\underline{w} = \\underline{w} - \\gamma * \\nabla L(\\underline{w})$."
   ]
  },
  {
   "cell_type": "code",
   "execution_count": 4,
   "metadata": {},
   "outputs": [],
   "source": [
    "def least_squares_GD(y, tx, initial_w, max_iters, gamma):\n",
    "    \"\"\"Gradient descent algorithm.\"\"\"\n",
    "    # Define parameters to store w and loss\n",
    "    w = initial_w\n",
    "    for n_iter in range(max_iters):\n",
    "        grad = mse_grad(y, tx, w)\n",
    "        w = w - gamma * grad\n",
    "    loss = compute_loss(y, tx, w)\n",
    "    return losse, w"
   ]
  },
  {
   "cell_type": "markdown",
   "metadata": {},
   "source": [
    "### least_squares_SGD\n",
    "*least_squares_GD* applies batch gradient descent with respect to the MSE loss function. y are the labels, tx the data, initial_w the initial vector, max_iters are the number of steps of the algorithm and gamma the step size.\n",
    "at each step, this performs $\\underline{w}^{(t+1)} = \\underline{w}^{(t)} - \\gamma * \\underline{g}$ where $\\underline{g} = \\frac{1}{|B|} \\sum\\limits_{n \\in B} \\nabla L_n(\\underline{w}^{(t)})$"
   ]
  },
  {
   "cell_type": "code",
   "execution_count": 1,
   "metadata": {},
   "outputs": [],
   "source": [
    "def least_squares_SGD(y, tx, initial_w, max_iters, gamma, batch_size = 1):\n",
    "    \n",
    "    w = initial_w\n",
    "    rand_list = np.arange(y.shape[0])\n",
    "    \n",
    "    for n in np.arange(max_iters):\n",
    "        np.random.shuffle(rand_list)\n",
    "        # randomizing y and tx so we can take the first *batch_size* elements\n",
    "        y = y[rand_list]\n",
    "        tx = tx[rand_list]\n",
    "        \n",
    "        # compute loss and gradent descent\n",
    "        grad = compute_stoch_gradient(y[:batch_size], tx[:batch_size,:], w)\n",
    "        \n",
    "        w = w - gamma * grad\n",
    "        \n",
    "    loss = compute_loss(y, tx, w)\n",
    "    return losse, w"
   ]
  },
  {
   "cell_type": "markdown",
   "metadata": {},
   "source": [
    "### least square\n",
    "given tx (N, D+1) and y (N), finds the solution in terms of the lest squares, namely $arg min_{b} || Y - XB ||^2$\n",
    "which is $B = (X^T X)^{-1} (X^T Y)$"
   ]
  },
  {
   "cell_type": "code",
   "execution_count": null,
   "metadata": {},
   "outputs": [],
   "source": [
    "def least_square_loss(tx, y, w):\n",
    "    e = y - tx @ w.T\n",
    "    return (1/y.shape[0]) * e @ e.T"
   ]
  },
  {
   "cell_type": "code",
   "execution_count": 3,
   "metadata": {},
   "outputs": [],
   "source": [
    "def least_squares(tx, y):\n",
    "    XT_X = tx.T @ tx\n",
    "    XT_Y = tx.T @ y\n",
    "    w = np.linalg.inv(XT_X) @ XT_Y\n",
    "    loss = least_square_loss(tx, y, w)\n",
    "    return w, loss"
   ]
  },
  {
   "cell_type": "markdown",
   "metadata": {},
   "source": [
    "### ridge regression\n",
    "given tx (N, D+1), lamdba and y (N), finds the solution in terms of the lest squares, namely $arg min_{b} || Y - XB ||^2 + \\lambda ||B||^2$\n",
    "which is $B = (X^T X + \\lambda I_{D+1})^{-1} (X^T Y)$"
   ]
  },
  {
   "cell_type": "code",
   "execution_count": 4,
   "metadata": {},
   "outputs": [],
   "source": [
    "def ridge_regression_loss(tx, y, w, lambda_):\n",
    "    return least_square_loss(tx, y, w) + lambda_ * w.T @ w"
   ]
  },
  {
   "cell_type": "code",
   "execution_count": 5,
   "metadata": {},
   "outputs": [],
   "source": [
    "def ridge_regression(tx, y, lambda_):\n",
    "    XT_X = tx.T @ tx\n",
    "    XT_Y = tx.T @ y\n",
    "    w = np.linalg.inv(XT_X + np.eye(tx.shape[1]) * lambda_) @ XT_Y\n",
    "    loss = ridge_regression_loss(tx, y, w, lambda_)\n",
    "    return w, loss"
   ]
  },
  {
   "cell_type": "code",
   "execution_count": null,
   "metadata": {},
   "outputs": [],
   "source": []
  }
 ],
 "metadata": {
  "kernelspec": {
   "display_name": "Python 3",
   "language": "python",
   "name": "python3"
  },
  "language_info": {
   "codemirror_mode": {
    "name": "ipython",
    "version": 3
   },
   "file_extension": ".py",
   "mimetype": "text/x-python",
   "name": "python",
   "nbconvert_exporter": "python",
   "pygments_lexer": "ipython3",
   "version": "3.7.3"
  }
 },
 "nbformat": 4,
 "nbformat_minor": 2
}
