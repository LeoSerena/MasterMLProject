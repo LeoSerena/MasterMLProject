{
 "cells": [
  {
   "cell_type": "code",
   "execution_count": 134,
   "metadata": {},
   "outputs": [],
   "source": [
    "import numpy as np\n",
    "import matplotlib.pyplot as plt"
   ]
  },
  {
   "cell_type": "code",
   "execution_count": 154,
   "metadata": {},
   "outputs": [
    {
     "data": {
      "text/plain": [
       "[<matplotlib.lines.Line2D at 0x1fca71f15c0>]"
      ]
     },
     "execution_count": 154,
     "metadata": {},
     "output_type": "execute_result"
    },
    {
     "data": {
      "image/png": "[encoded data removed]",
      "text/plain": [
       "<Figure size 432x288 with 1 Axes>"
      ]
     },
     "metadata": {
      "needs_background": "light"
     },
     "output_type": "display_data"
    }
   ],
   "source": [
    "mean_1 = np.array([1,1])\n",
    "mean_2 = np.array([2,2])\n",
    "std = 0.2\n",
    "\n",
    "N = 100\n",
    "\n",
    "a_1 = np.random.normal(1, std, N)\n",
    "a_2 = np.random.normal(1, std, N)\n",
    "a = np.vstack((a_1, a_2, np.zeros(N)))\n",
    "\n",
    "b_1 = np.random.normal(2, std, N)\n",
    "b_2 = np.random.normal(2, std, N)\n",
    "b = np.vstack((b_1, b_2, np.ones(N)))\n",
    "\n",
    "data = np.vstack((a.T, b.T))\n",
    "X = np.array(data[:,:2])\n",
    "Y = np.array(data[:,2])\n",
    "\n",
    "plt.plot(a[0], a[1], 'o')\n",
    "plt.plot(b[0], b[1], 'o')"
   ]
  },
  {
   "cell_type": "code",
   "execution_count": 155,
   "metadata": {},
   "outputs": [],
   "source": [
    "def standardize(x):\n",
    "    \"\"\"Standardize the original data set.\"\"\"\n",
    "    mean_x = np.mean(x, axis = 0)\n",
    "    x = x - mean_x\n",
    "    std_x = np.std(x, axis = 0)\n",
    "    x = x / std_x\n",
    "    return x, mean_x, std_x"
   ]
  },
  {
   "cell_type": "code",
   "execution_count": 156,
   "metadata": {},
   "outputs": [],
   "source": [
    "X, mean_X, std_X = standardize(X)\n",
    "X = np.column_stack((np.ones(X.shape[0]), X))"
   ]
  },
  {
   "cell_type": "code",
   "execution_count": 157,
   "metadata": {},
   "outputs": [],
   "source": [
    "def sigmoid(z):\n",
    "    return 1/(1 + np.exp(-z))\n",
    "\n",
    "def sigmoid_gradient(z):\n",
    "    return (1 - sigmoid(z)) * sigmoid(z)"
   ]
  },
  {
   "cell_type": "code",
   "execution_count": 158,
   "metadata": {},
   "outputs": [],
   "source": [
    "def logistic_loss(y, x, w):\n",
    "    return - np.mean(y * np.log(sigmoid(x @ w.T)) + (np.ones(y.shape[0])-y) * np.log(sigmoid(1 - x @ w.T)))\n",
    "\n",
    "def logistic_gradient(y, x, w):\n",
    "    return (1 / y.shape[0]) * x.T @ (pred(x, w) - y)\n",
    "\n",
    "def pred(x, w):\n",
    "    return sigmoid(x @ w.T)"
   ]
  },
  {
   "cell_type": "code",
   "execution_count": 159,
   "metadata": {},
   "outputs": [],
   "source": [
    "def gradient_descent(y, tx, init_w, max_iter, gamma, batch_size = 1):\n",
    "    w = init_w\n",
    "    rand_list = np.arange(y.shape[0])\n",
    "    for i in range(max_iter):\n",
    "        if batch_size != 1:\n",
    "            np.random.shuffle(rand_list)\n",
    "            # randomizing y and tx so we can take the first *batch_size* elements\n",
    "            y = y[rand_list]\n",
    "            tx = tx[rand_list]\n",
    "            \n",
    "        grad = logistic_gradient(y, tx, w)\n",
    "        w = w - gamma * grad\n",
    "        \n",
    "        loss = logistic_loss(y, tx, w)\n",
    "    return loss, w"
   ]
  },
  {
   "cell_type": "code",
   "execution_count": 160,
   "metadata": {},
   "outputs": [
    {
     "data": {
      "text/plain": [
       "array([4.06922577, 5.78477558, 6.38653263])"
      ]
     },
     "execution_count": 160,
     "metadata": {},
     "output_type": "execute_result"
    }
   ],
   "source": [
    "loss, w = gradient_descent(Y, X, np.array([10,2,2]), 200, 0.5)\n",
    "w"
   ]
  },
  {
   "cell_type": "code",
   "execution_count": 161,
   "metadata": {},
   "outputs": [],
   "source": [
    "def classification(x):\n",
    "    return np.where(x < 1/2, 0, 1)"
   ]
  },
  {
   "cell_type": "code",
   "execution_count": 162,
   "metadata": {},
   "outputs": [],
   "source": [
    "clas = classification(pred(X, w))\n",
    "wrong = np.where(clas - Y != 0, 'red', 'blue')"
   ]
  },
  {
   "cell_type": "code",
   "execution_count": 163,
   "metadata": {},
   "outputs": [
    {
     "data": {
      "image/png": "[encoded data removed]",
      "text/plain": [
       "<Figure size 432x288 with 1 Axes>"
      ]
     },
     "metadata": {
      "needs_background": "light"
     },
     "output_type": "display_data"
    }
   ],
   "source": [
    "plt.title('wrong classifications in red')\n",
    "for i in range(X.shape[0]):\n",
    "    plt.scatter(X[i,1], X[i,2], color = wrong[i])"
   ]
  },
  {
   "cell_type": "code",
   "execution_count": 164,
   "metadata": {},
   "outputs": [
    {
     "data": {
      "text/plain": [
       "0.5"
      ]
     },
     "execution_count": 164,
     "metadata": {},
     "output_type": "execute_result"
    }
   ],
   "source": [
    "## error precentage on train data\n",
    "np.sum(np.abs(clas-Y))/Y.shape[0] * 100"
   ]
  },
  {
   "cell_type": "code",
   "execution_count": null,
   "metadata": {},
   "outputs": [],
   "source": []
  }
 ],
 "metadata": {
  "kernelspec": {
   "display_name": "Python 3",
   "language": "python",
   "name": "python3"
  },
  "language_info": {
   "codemirror_mode": {
    "name": "ipython",
    "version": 3
   },
   "file_extension": ".py",
   "mimetype": "text/x-python",
   "name": "python",
   "nbconvert_exporter": "python",
   "pygments_lexer": "ipython3",
   "version": "3.7.3"
  }
 },
 "nbformat": 4,
 "nbformat_minor": 2
}
