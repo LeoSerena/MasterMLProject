{
 "cells": [
  {
   "cell_type": "code",
   "execution_count": 2,
   "metadata": {},
   "outputs": [],
   "source": [
    "import numpy as np\n",
    "from implementations_clean import *\n",
    "from proj1_helpers import *"
   ]
  },
  {
   "cell_type": "code",
   "execution_count": 3,
   "metadata": {},
   "outputs": [],
   "source": [
    "y,X,ids = load_csv_data(\"train.csv\")"
   ]
  },
  {
   "cell_type": "code",
   "execution_count": 4,
   "metadata": {},
   "outputs": [],
   "source": [
    "# col_means = np.nanmean(X, axis=0)\n",
    "X = np.where(X == -999., np.nan, X)\n",
    "col_means = np.nanmedian(X, axis=0)\n",
    "idxs = np.where(np.isnan(X))\n",
    "X[idxs] = np.take(col_means, idxs[1])\n",
    "\n",
    "#feature 1: correlations der_mass_MMC\n",
    "X_gt_mmc = np.array(X[:,0], copy=True)\n",
    "X_gt_mmc[X_gt_mmc <= 140] = 140\n",
    "# X = np.column_stack((X, X_gt_mmc))\n",
    "X[:,0][X[:,0] > 140] = 140\n",
    "X = np.column_stack((X, X_gt_mmc))\n",
    "\n",
    "#feature 2: add momentums\n",
    "#tau momentum\n",
    "tau_px = X[:,13]*np.cos(X[:,15])\n",
    "tau_py = X[:,13]*np.sin(X[:,15])\n",
    "tau_pz = X[:,13]*np.sinh(X[:,14])\n",
    "X = np.column_stack((X, tau_px,tau_py,tau_pz))\n",
    "#lep momentum\n",
    "lep_px = X[:,16]*np.cos(X[:,18])\n",
    "lep_py = X[:,16]*np.cos(X[:,18])\n",
    "lep_pz = X[:,16]*np.cos(X[:,17])\n",
    "X = np.column_stack((X, lep_px,lep_py,lep_pz))\n",
    "#leading jet momentum\n",
    "jet_px = X[:,23]*np.cos(X[:,25])\n",
    "jet_py = X[:,23]*np.cos(X[:,25])\n",
    "jet_pz = X[:,23]*np.cos(X[:,24])\n",
    "X = np.column_stack((X, jet_px,jet_py,jet_pz))\n",
    "#subleading jet momentum\n",
    "subjet_px = X[:,26]*np.cos(X[:,28])\n",
    "subjet_py = X[:,26]*np.cos(X[:,28])\n",
    "subjet_pz = X[:,26]*np.cos(X[:,27])\n",
    "X = np.column_stack((X, subjet_px,subjet_py,subjet_pz))\n",
    "#subleading jet momentum\n",
    "# DER_met_phi_centrality_cos = np.cos(X[:,11])\n",
    "# DER_met_phi_centrality_sin = np.sin(X[:,11])\n",
    "# X = np.column_stack((X, DER_met_phi_centrality_cos,DER_met_phi_centrality_sin))\n",
    "\n",
    "#feature 3: abs angles\n",
    "#der_met_phi_centrality\n",
    "X[:,11] = np.abs(X[:,11])\n",
    "#tau phi\n",
    "X[:,15] = np.abs(X[:,15])\n",
    "#lep phi\n",
    "X[:,18] = np.abs(X[:,18])\n",
    "#met phi\n",
    "X[:,20] = np.abs(X[:,20])\n",
    "#lead jet phi\n",
    "X[:,24] = np.abs(X[:,24])\n",
    "#sublead jet phi\n",
    "X[:,27] = np.abs(X[:,27])\n",
    "\n",
    "\n",
    "#feature 4: categorical PRI_jet_num\n",
    "jet_num_0 = (X[:,22] == 0).astype(int)\n",
    "jet_num_1 = (X[:,22] == 1).astype(int)\n",
    "jet_num_2 = (X[:,22] == 2).astype(int)\n",
    "jet_num_3 = (X[:,22] == 3).astype(int)\n",
    "\n",
    "# #feature 5: pt ratios\n",
    "# #tau_lep_ratio = PRI_tau_pt/PRI_lep_pt\n",
    "# tau_lep_ratio = X[:,13]/X[:,16]\n",
    "tau_lep_ratio = X[:,13]/X[:,16]\n",
    "# #jets_ratio = PRI_jet_leading_pt/PRI_jet_subleading_pt\n",
    "# jets_ratio = X[:,22]/X[:,25]\n",
    "# jets_ratio = X[:,23]/X[:,25]\n",
    "# #met_tot_ratio = PRI_met/PRI_met_sumet\n",
    "met_tot_ratio = X[:,19]/X[:,21]\n",
    "# X = np.column_stack((X, tau_lep_ratio,jets_ratio,met_tot_ratio))\n",
    "X = np.column_stack((X, tau_lep_ratio,met_tot_ratio))\n",
    "\n",
    "# #feature 6: jets_diff_angle\n",
    "jets_diff_angle = np.cos(X[:,24]-X[:,27])\n",
    "X = np.column_stack((X, jets_diff_angle))\n",
    "\n",
    "#TEST EXTRA COS/SIN ANGLES\n",
    "\n",
    "# df = pd.DataFrame(X)\n",
    "# df.head()\n",
    "# print(X[:,22] == 1).astype(int)"
   ]
  },
  {
   "cell_type": "code",
   "execution_count": 6,
   "metadata": {},
   "outputs": [
    {
     "data": {
      "text/plain": [
       "array([2., 1., 1., ..., 1., 0., 0.])"
      ]
     },
     "execution_count": 6,
     "metadata": {},
     "output_type": "execute_result"
    }
   ],
   "source": [
    "X[:,22]"
   ]
  },
  {
   "cell_type": "code",
   "execution_count": null,
   "metadata": {},
   "outputs": [],
   "source": []
  }
 ],
 "metadata": {
  "kernelspec": {
   "display_name": "Python 3",
   "language": "python",
   "name": "python3"
  },
  "language_info": {
   "codemirror_mode": {
    "name": "ipython",
    "version": 3
   },
   "file_extension": ".py",
   "mimetype": "text/x-python",
   "name": "python",
   "nbconvert_exporter": "python",
   "pygments_lexer": "ipython3",
   "version": "3.7.4"
  }
 },
 "nbformat": 4,
 "nbformat_minor": 2
}
